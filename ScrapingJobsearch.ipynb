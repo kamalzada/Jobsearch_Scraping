{
 "cells": [
  {
   "cell_type": "code",
   "execution_count": 4,
   "id": "97fe347d",
   "metadata": {},
   "outputs": [],
   "source": [
    "import requests\n",
    "from bs4 import BeautifulSoup\n",
    "import pandas as pd"
   ]
  },
  {
   "cell_type": "code",
   "execution_count": 5,
   "id": "a2862162",
   "metadata": {},
   "outputs": [],
   "source": [
    "import time\n",
    "from selenium import webdriver\n",
    "from webdriver_manager.chrome import ChromeDriverManager #installation required\n",
    "from selenium.webdriver.common.keys import Keys"
   ]
  },
  {
   "cell_type": "code",
   "execution_count": 93,
   "id": "b6fe3f26",
   "metadata": {},
   "outputs": [
    {
     "name": "stderr",
     "output_type": "stream",
     "text": [
      "C:\\Users\\Thosiba\\AppData\\Local\\Temp\\ipykernel_4140\\2756198728.py:3: DeprecationWarning: executable_path has been deprecated, please pass in a Service object\n",
      "  driver = webdriver.Chrome(ChromeDriverManager().install())\n"
     ]
    }
   ],
   "source": [
    "url = 'https://classic.jobsearch.az/'\n",
    "\n",
    "driver = webdriver.Chrome(ChromeDriverManager().install())\n",
    "driver.maximize_window()\n",
    "time.sleep(2)\n",
    "driver.get(url)\n",
    "time.sleep(5) "
   ]
  },
  {
   "cell_type": "code",
   "execution_count": 94,
   "id": "2aa8ce88",
   "metadata": {},
   "outputs": [],
   "source": [
    "def navigatePage(driver):\n",
    "    button = driver.find_element_by_xpath('/html/body/header/div/nav/ul/li[2]/a') \n",
    "    button.click()\n",
    "    time.sleep(3)\n",
    "    new_button = driver.find_element_by_xpath('//*[@id=\"all_parts\"]/section/div[2]/div/div[5]/a/span[2]')\n",
    "    new_button.click()\n",
    "    time.sleep(2)\n",
    "    return driver.page_source"
   ]
  },
  {
   "cell_type": "code",
   "execution_count": 95,
   "id": "cae87f66",
   "metadata": {},
   "outputs": [
    {
     "name": "stderr",
     "output_type": "stream",
     "text": [
      "C:\\Users\\Thosiba\\AppData\\Local\\Temp\\ipykernel_4140\\455475585.py:2: DeprecationWarning: find_element_by_xpath is deprecated. Please use find_element(by=By.XPATH, value=xpath) instead\n",
      "  button = driver.find_element_by_xpath('/html/body/header/div/nav/ul/li[2]/a')\n",
      "C:\\Users\\Thosiba\\AppData\\Local\\Temp\\ipykernel_4140\\455475585.py:5: DeprecationWarning: find_element_by_xpath is deprecated. Please use find_element(by=By.XPATH, value=xpath) instead\n",
      "  new_button = driver.find_element_by_xpath('//*[@id=\"all_parts\"]/section/div[2]/div/div[5]/a/span[2]')\n"
     ]
    }
   ],
   "source": [
    "page_source = navigatePage(driver)"
   ]
  },
  {
   "cell_type": "code",
   "execution_count": 96,
   "id": "bdde1da4",
   "metadata": {},
   "outputs": [],
   "source": [
    "driver.execute_script('window.scrollBy(0, document.body.scrollHeight)') #scroll down"
   ]
  },
  {
   "cell_type": "code",
   "execution_count": 97,
   "id": "9ae1569c",
   "metadata": {},
   "outputs": [],
   "source": [
    "ikt_page_source = driver.page_source"
   ]
  },
  {
   "cell_type": "code",
   "execution_count": 98,
   "id": "fd18116a",
   "metadata": {},
   "outputs": [],
   "source": [
    "soup = BeautifulSoup(ikt_page_source, 'lxml') #parse with BS\n",
    "job_title = soup.select('h2.vacancies__title  ') "
   ]
  },
  {
   "cell_type": "code",
   "execution_count": 300,
   "id": "6f45255a",
   "metadata": {},
   "outputs": [],
   "source": [
    "jTitle = []\n",
    "for index in range(len(job_title)):\n",
    "    jTitle.append(job_title[index].text)\n",
    "jTitle = pd.Series(jTitle)    "
   ]
  },
  {
   "cell_type": "code",
   "execution_count": 301,
   "id": "93f57fc2",
   "metadata": {},
   "outputs": [],
   "source": [
    "dates = soup.select('span.vacancies__dead-line') #date parse"
   ]
  },
  {
   "cell_type": "code",
   "execution_count": 302,
   "id": "25366223",
   "metadata": {},
   "outputs": [],
   "source": [
    "date = []\n",
    "for dat in dates:\n",
    "    date.append(dat.text)\n",
    "date = pd.Series(date)    "
   ]
  },
  {
   "cell_type": "code",
   "execution_count": 303,
   "id": "87251bc1",
   "metadata": {},
   "outputs": [],
   "source": [
    "df = pd.concat([jTitle, date], keys = ['job_title', 'upload_date'], axis=1)"
   ]
  },
  {
   "cell_type": "code",
   "execution_count": 304,
   "id": "082fb428",
   "metadata": {},
   "outputs": [],
   "source": [
    "df['upload_date'] = df['upload_date'].str[0:7].apply(lambda val: val.strip())\n",
    "df['job_title'] = df['job_title'].apply(lambda val: val.strip())"
   ]
  },
  {
   "cell_type": "code",
   "execution_count": 305,
   "id": "e252837c",
   "metadata": {},
   "outputs": [
    {
     "data": {
      "text/html": [
       "<div>\n",
       "<style scoped>\n",
       "    .dataframe tbody tr th:only-of-type {\n",
       "        vertical-align: middle;\n",
       "    }\n",
       "\n",
       "    .dataframe tbody tr th {\n",
       "        vertical-align: top;\n",
       "    }\n",
       "\n",
       "    .dataframe thead th {\n",
       "        text-align: right;\n",
       "    }\n",
       "</style>\n",
       "<table border=\"1\" class=\"dataframe\">\n",
       "  <thead>\n",
       "    <tr style=\"text-align: right;\">\n",
       "      <th></th>\n",
       "      <th>job_title</th>\n",
       "      <th>upload_date</th>\n",
       "    </tr>\n",
       "  </thead>\n",
       "  <tbody>\n",
       "    <tr>\n",
       "      <th>17</th>\n",
       "      <td>Sayt üzrə mütəxəssis</td>\n",
       "      <td>15 avq</td>\n",
       "    </tr>\n",
       "    <tr>\n",
       "      <th>32</th>\n",
       "      <td>SAP Retail MM Junior Consultant</td>\n",
       "      <td>10 avq</td>\n",
       "    </tr>\n",
       "    <tr>\n",
       "      <th>108</th>\n",
       "      <td>İş təminatlı Back-End üzrə bootcamp</td>\n",
       "      <td>20 iyl</td>\n",
       "    </tr>\n",
       "    <tr>\n",
       "      <th>74</th>\n",
       "      <td>SQL Developer</td>\n",
       "      <td>29 iyl</td>\n",
       "    </tr>\n",
       "    <tr>\n",
       "      <th>92</th>\n",
       "      <td>Senior Business/IT Analyst</td>\n",
       "      <td>25 iyl</td>\n",
       "    </tr>\n",
       "    <tr>\n",
       "      <th>104</th>\n",
       "      <td>Backend Developer</td>\n",
       "      <td>21 iyl</td>\n",
       "    </tr>\n",
       "  </tbody>\n",
       "</table>\n",
       "</div>"
      ],
      "text/plain": [
       "                               job_title upload_date\n",
       "17                  Sayt üzrə mütəxəssis      15 avq\n",
       "32       SAP Retail MM Junior Consultant      10 avq\n",
       "108  İş təminatlı Back-End üzrə bootcamp      20 iyl\n",
       "74                         SQL Developer      29 iyl\n",
       "92            Senior Business/IT Analyst      25 iyl\n",
       "104                    Backend Developer      21 iyl"
      ]
     },
     "execution_count": 305,
     "metadata": {},
     "output_type": "execute_result"
    }
   ],
   "source": [
    "df.sample(6) "
   ]
  },
  {
   "cell_type": "code",
   "execution_count": 343,
   "id": "d62e6ce1",
   "metadata": {},
   "outputs": [],
   "source": [
    "df['upload_date'] = '2022-' + df['upload_date'].replace('iyl', '07', regex=True).replace('avq', '08', regex=True). \\\n",
    "replace(' ', '-', regex=True).str[-2:] + '-' + \\\n",
    "df['upload_date'].replace('iyl', '07', regex=True).replace('avq', '08', regex=True). \\\n",
    "replace(' ', '-', regex=True).str[0:2].replace('-', '', regex=True).values"
   ]
  },
  {
   "cell_type": "code",
   "execution_count": 344,
   "id": "f496f3c4",
   "metadata": {},
   "outputs": [],
   "source": [
    "df['upload_date'] = df['upload_date'].astype('datetime64[ns]')"
   ]
  },
  {
   "cell_type": "code",
   "execution_count": 345,
   "id": "428cdc5c",
   "metadata": {},
   "outputs": [
    {
     "data": {
      "text/html": [
       "<div>\n",
       "<style scoped>\n",
       "    .dataframe tbody tr th:only-of-type {\n",
       "        vertical-align: middle;\n",
       "    }\n",
       "\n",
       "    .dataframe tbody tr th {\n",
       "        vertical-align: top;\n",
       "    }\n",
       "\n",
       "    .dataframe thead th {\n",
       "        text-align: right;\n",
       "    }\n",
       "</style>\n",
       "<table border=\"1\" class=\"dataframe\">\n",
       "  <thead>\n",
       "    <tr style=\"text-align: right;\">\n",
       "      <th></th>\n",
       "      <th>job_title</th>\n",
       "      <th>upload_date</th>\n",
       "    </tr>\n",
       "  </thead>\n",
       "  <tbody>\n",
       "    <tr>\n",
       "      <th>28</th>\n",
       "      <td>İnformasiya təhlükəsizliyi üzrə Baş mütəxəssis</td>\n",
       "      <td>2022-08-12</td>\n",
       "    </tr>\n",
       "    <tr>\n",
       "      <th>118</th>\n",
       "      <td>Sistemlərin və şəbəkənin idarə edilməsi şöbəsi...</td>\n",
       "      <td>2022-07-19</td>\n",
       "    </tr>\n",
       "    <tr>\n",
       "      <th>105</th>\n",
       "      <td>System administrator</td>\n",
       "      <td>2022-07-21</td>\n",
       "    </tr>\n",
       "    <tr>\n",
       "      <th>7</th>\n",
       "      <td>IT System Administrator</td>\n",
       "      <td>2022-08-17</td>\n",
       "    </tr>\n",
       "  </tbody>\n",
       "</table>\n",
       "</div>"
      ],
      "text/plain": [
       "                                             job_title upload_date\n",
       "28      İnformasiya təhlükəsizliyi üzrə Baş mütəxəssis  2022-08-12\n",
       "118  Sistemlərin və şəbəkənin idarə edilməsi şöbəsi...  2022-07-19\n",
       "105                               System administrator  2022-07-21\n",
       "7                              IT System Administrator  2022-08-17"
      ]
     },
     "execution_count": 345,
     "metadata": {},
     "output_type": "execute_result"
    }
   ],
   "source": [
    "df.sample(4)"
   ]
  },
  {
   "cell_type": "code",
   "execution_count": 346,
   "id": "51031bb3",
   "metadata": {},
   "outputs": [
    {
     "data": {
      "text/plain": [
       "False"
      ]
     },
     "execution_count": 346,
     "metadata": {},
     "output_type": "execute_result"
    }
   ],
   "source": [
    "df.duplicated().any()"
   ]
  },
  {
   "cell_type": "code",
   "execution_count": 347,
   "id": "7f0f7797",
   "metadata": {},
   "outputs": [
    {
     "data": {
      "text/plain": [
       "4"
      ]
     },
     "metadata": {},
     "output_type": "display_data"
    },
    {
     "data": {
      "text/plain": [
       "122"
      ]
     },
     "metadata": {},
     "output_type": "display_data"
    }
   ],
   "source": [
    "display(df[df['job_title'].str.contains('Data Analitik|Data Scientist|Data|Machine Learning|Data Analyst')].shape[0] \\\n",
    "        , df.shape[0]) #number of data vacancies per month"
   ]
  },
  {
   "cell_type": "code",
   "execution_count": 348,
   "id": "be50b8e2",
   "metadata": {},
   "outputs": [
    {
     "data": {
      "text/plain": [
       "3.278688524590164"
      ]
     },
     "execution_count": 348,
     "metadata": {},
     "output_type": "execute_result"
    }
   ],
   "source": [
    "df[df['job_title'].str.contains('Data Analitik|Data Scientist|Data|Machine Learning|Data Analyst')].shape[0]/ \\\n",
    "df.shape[0]*100 #pct"
   ]
  }
 ],
 "metadata": {
  "kernelspec": {
   "display_name": "Python 3 (ipykernel)",
   "language": "python",
   "name": "python3"
  },
  "language_info": {
   "codemirror_mode": {
    "name": "ipython",
    "version": 3
   },
   "file_extension": ".py",
   "mimetype": "text/x-python",
   "name": "python",
   "nbconvert_exporter": "python",
   "pygments_lexer": "ipython3",
   "version": "3.8.8"
  }
 },
 "nbformat": 4,
 "nbformat_minor": 5
}
