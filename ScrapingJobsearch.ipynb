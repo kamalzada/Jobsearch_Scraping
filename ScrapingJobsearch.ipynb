{
 "cells": [
  {
   "cell_type": "code",
   "execution_count": 4,
   "id": "26e754d0",
   "metadata": {},
   "outputs": [],
   "source": [
    "import requests\n",
    "from bs4 import BeautifulSoup\n",
    "import pandas as pd"
   ]
  },
  {
   "cell_type": "code",
   "execution_count": 5,
   "id": "4cc5df34",
   "metadata": {},
   "outputs": [],
   "source": [
    "import time\n",
    "from selenium import webdriver\n",
    "from webdriver_manager.chrome import ChromeDriverManager #installation required\n",
    "from selenium.webdriver.common.keys import Keys"
   ]
  },
  {
   "cell_type": "code",
   "execution_count": 93,
   "id": "ed7ba761",
   "metadata": {},
   "outputs": [
    {
     "name": "stderr",
     "output_type": "stream",
     "text": [
      "C:\\Users\\Thosiba\\AppData\\Local\\Temp\\ipykernel_4140\\2756198728.py:3: DeprecationWarning: executable_path has been deprecated, please pass in a Service object\n",
      "  driver = webdriver.Chrome(ChromeDriverManager().install())\n"
     ]
    }
   ],
   "source": [
    "url = 'https://classic.jobsearch.az/'\n",
    "\n",
    "driver = webdriver.Chrome(ChromeDriverManager().install())\n",
    "driver.maximize_window()\n",
    "time.sleep(2)\n",
    "driver.get(url)\n",
    "time.sleep(5) "
   ]
  },
  {
   "cell_type": "code",
   "execution_count": 94,
   "id": "e19e0030",
   "metadata": {},
   "outputs": [],
   "source": [
    "def navigatePage(driver):\n",
    "    button = driver.find_element_by_xpath('/html/body/header/div/nav/ul/li[2]/a') \n",
    "    button.click()\n",
    "    time.sleep(3)\n",
    "    new_button = driver.find_element_by_xpath('//*[@id=\"all_parts\"]/section/div[2]/div/div[5]/a/span[2]')\n",
    "    new_button.click()\n",
    "    time.sleep(2)\n",
    "    return driver.page_source"
   ]
  },
  {
   "cell_type": "code",
   "execution_count": 95,
   "id": "7b85dd50",
   "metadata": {},
   "outputs": [
    {
     "name": "stderr",
     "output_type": "stream",
     "text": [
      "C:\\Users\\Thosiba\\AppData\\Local\\Temp\\ipykernel_4140\\455475585.py:2: DeprecationWarning: find_element_by_xpath is deprecated. Please use find_element(by=By.XPATH, value=xpath) instead\n",
      "  button = driver.find_element_by_xpath('/html/body/header/div/nav/ul/li[2]/a')\n",
      "C:\\Users\\Thosiba\\AppData\\Local\\Temp\\ipykernel_4140\\455475585.py:5: DeprecationWarning: find_element_by_xpath is deprecated. Please use find_element(by=By.XPATH, value=xpath) instead\n",
      "  new_button = driver.find_element_by_xpath('//*[@id=\"all_parts\"]/section/div[2]/div/div[5]/a/span[2]')\n"
     ]
    }
   ],
   "source": [
    "page_source = navigatePage(driver)"
   ]
  },
  {
   "cell_type": "code",
   "execution_count": 96,
   "id": "d293d2bf",
   "metadata": {},
   "outputs": [],
   "source": [
    "driver.execute_script('window.scrollBy(0, document.body.scrollHeight)') #scroll down"
   ]
  },
  {
   "cell_type": "code",
   "execution_count": 97,
   "id": "041adbcb",
   "metadata": {},
   "outputs": [],
   "source": [
    "ikt_page_source = driver.page_source"
   ]
  },
  {
   "cell_type": "code",
   "execution_count": 98,
   "id": "d8ae7455",
   "metadata": {},
   "outputs": [],
   "source": [
    "soup = BeautifulSoup(ikt_page_source, 'lxml') #parse with BS\n",
    "job_title = soup.select('h2.vacancies__title  ') "
   ]
  },
  {
   "cell_type": "code",
   "execution_count": 300,
   "id": "68ee7169",
   "metadata": {},
   "outputs": [],
   "source": [
    "jTitle = []\n",
    "for index in range(len(job_title)):\n",
    "    jTitle.append(job_title[index].text)\n",
    "jTitle = pd.Series(jTitle)    "
   ]
  },
  {
   "cell_type": "code",
   "execution_count": 301,
   "id": "b4cb9d42",
   "metadata": {},
   "outputs": [],
   "source": [
    "dates = soup.select('span.vacancies__dead-line') #date parse"
   ]
  },
  {
   "cell_type": "code",
   "execution_count": 302,
   "id": "5c07a898",
   "metadata": {},
   "outputs": [],
   "source": [
    "date = []\n",
    "for dat in dates:\n",
    "    date.append(dat.text)\n",
    "date = pd.Series(date)    "
   ]
  },
  {
   "cell_type": "code",
   "execution_count": 303,
   "id": "08cb6ff1",
   "metadata": {},
   "outputs": [],
   "source": [
    "df = pd.concat([jTitle, date], keys = ['job_title', 'upload_date'], axis=1)"
   ]
  },
  {
   "cell_type": "code",
   "execution_count": 304,
   "id": "d152c96f",
   "metadata": {},
   "outputs": [],
   "source": [
    "df['upload_date'] = df['upload_date'].str[0:7].apply(lambda val: val.strip())\n",
    "df['job_title'] = df['job_title'].apply(lambda val: val.strip())"
   ]
  },
  {
   "cell_type": "code",
   "execution_count": 305,
   "id": "6dd018c4",
   "metadata": {},
   "outputs": [
    {
     "data": {
      "text/html": [
       "<div>\n",
       "<style scoped>\n",
       "    .dataframe tbody tr th:only-of-type {\n",
       "        vertical-align: middle;\n",
       "    }\n",
       "\n",
       "    .dataframe tbody tr th {\n",
       "        vertical-align: top;\n",
       "    }\n",
       "\n",
       "    .dataframe thead th {\n",
       "        text-align: right;\n",
       "    }\n",
       "</style>\n",
       "<table border=\"1\" class=\"dataframe\">\n",
       "  <thead>\n",
       "    <tr style=\"text-align: right;\">\n",
       "      <th></th>\n",
       "      <th>job_title</th>\n",
       "      <th>upload_date</th>\n",
       "    </tr>\n",
       "  </thead>\n",
       "  <tbody>\n",
       "    <tr>\n",
       "      <th>17</th>\n",
       "      <td>Sayt üzrə mütəxəssis</td>\n",
       "      <td>15 avq</td>\n",
       "    </tr>\n",
       "    <tr>\n",
       "      <th>32</th>\n",
       "      <td>SAP Retail MM Junior Consultant</td>\n",
       "      <td>10 avq</td>\n",
       "    </tr>\n",
       "    <tr>\n",
       "      <th>108</th>\n",
       "      <td>İş təminatlı Back-End üzrə bootcamp</td>\n",
       "      <td>20 iyl</td>\n",
       "    </tr>\n",
       "    <tr>\n",
       "      <th>74</th>\n",
       "      <td>SQL Developer</td>\n",
       "      <td>29 iyl</td>\n",
       "    </tr>\n",
       "    <tr>\n",
       "      <th>92</th>\n",
       "      <td>Senior Business/IT Analyst</td>\n",
       "      <td>25 iyl</td>\n",
       "    </tr>\n",
       "    <tr>\n",
       "      <th>104</th>\n",
       "      <td>Backend Developer</td>\n",
       "      <td>21 iyl</td>\n",
       "    </tr>\n",
       "  </tbody>\n",
       "</table>\n",
       "</div>"
      ],
      "text/plain": [
       "                               job_title upload_date\n",
       "17                  Sayt üzrə mütəxəssis      15 avq\n",
       "32       SAP Retail MM Junior Consultant      10 avq\n",
       "108  İş təminatlı Back-End üzrə bootcamp      20 iyl\n",
       "74                         SQL Developer      29 iyl\n",
       "92            Senior Business/IT Analyst      25 iyl\n",
       "104                    Backend Developer      21 iyl"
      ]
     },
     "execution_count": 305,
     "metadata": {},
     "output_type": "execute_result"
    }
   ],
   "source": [
    "df.sample(6) "
   ]
  },
  {
   "cell_type": "code",
   "execution_count": 343,
   "id": "952ce700",
   "metadata": {},
   "outputs": [],
   "source": [
    "df['upload_date'] = '2022-' + df['upload_date'].replace('iyl', '07', regex=True).replace('avq', '08', regex=True). \\\n",
    "replace(' ', '-', regex=True).str[-2:] + '-' + \\\n",
    "df['upload_date'].replace('iyl', '07', regex=True).replace('avq', '08', regex=True). \\\n",
    "replace(' ', '-', regex=True).str[0:2].replace('-', '', regex=True).values"
   ]
  },
  {
   "cell_type": "code",
   "execution_count": 344,
   "id": "658596b3",
   "metadata": {},
   "outputs": [],
   "source": [
    "df['upload_date'] = df['upload_date'].astype('datetime64[ns]')"
   ]
  },
  {
   "cell_type": "code",
   "execution_count": 345,
   "id": "fd348d1d",
   "metadata": {},
   "outputs": [
    {
     "data": {
      "text/html": [
       "<div>\n",
       "<style scoped>\n",
       "    .dataframe tbody tr th:only-of-type {\n",
       "        vertical-align: middle;\n",
       "    }\n",
       "\n",
       "    .dataframe tbody tr th {\n",
       "        vertical-align: top;\n",
       "    }\n",
       "\n",
       "    .dataframe thead th {\n",
       "        text-align: right;\n",
       "    }\n",
       "</style>\n",
       "<table border=\"1\" class=\"dataframe\">\n",
       "  <thead>\n",
       "    <tr style=\"text-align: right;\">\n",
       "      <th></th>\n",
       "      <th>job_title</th>\n",
       "      <th>upload_date</th>\n",
       "    </tr>\n",
       "  </thead>\n",
       "  <tbody>\n",
       "    <tr>\n",
       "      <th>28</th>\n",
       "      <td>İnformasiya təhlükəsizliyi üzrə Baş mütəxəssis</td>\n",
       "      <td>2022-08-12</td>\n",
       "    </tr>\n",
       "    <tr>\n",
       "      <th>118</th>\n",
       "      <td>Sistemlərin və şəbəkənin idarə edilməsi şöbəsi...</td>\n",
       "      <td>2022-07-19</td>\n",
       "    </tr>\n",
       "    <tr>\n",
       "      <th>105</th>\n",
       "      <td>System administrator</td>\n",
       "      <td>2022-07-21</td>\n",
       "    </tr>\n",
       "    <tr>\n",
       "      <th>7</th>\n",
       "      <td>IT System Administrator</td>\n",
       "      <td>2022-08-17</td>\n",
       "    </tr>\n",
       "  </tbody>\n",
       "</table>\n",
       "</div>"
      ],
      "text/plain": [
       "                                             job_title upload_date\n",
       "28      İnformasiya təhlükəsizliyi üzrə Baş mütəxəssis  2022-08-12\n",
       "118  Sistemlərin və şəbəkənin idarə edilməsi şöbəsi...  2022-07-19\n",
       "105                               System administrator  2022-07-21\n",
       "7                              IT System Administrator  2022-08-17"
      ]
     },
     "execution_count": 345,
     "metadata": {},
     "output_type": "execute_result"
    }
   ],
   "source": [
    "df.sample(4)"
   ]
  },
  {
   "cell_type": "code",
   "execution_count": 382,
   "id": "be0973cb",
   "metadata": {},
   "outputs": [
    {
     "data": {
      "text/plain": [
       "False"
      ]
     },
     "execution_count": 382,
     "metadata": {},
     "output_type": "execute_result"
    }
   ],
   "source": [
    "df.duplicated().any()"
   ]
  },
  {
   "cell_type": "code",
   "execution_count": 384,
   "id": "03f90665",
   "metadata": {},
   "outputs": [
    {
     "data": {
      "text/html": [
       "<div>\n",
       "<style scoped>\n",
       "    .dataframe tbody tr th:only-of-type {\n",
       "        vertical-align: middle;\n",
       "    }\n",
       "\n",
       "    .dataframe tbody tr th {\n",
       "        vertical-align: top;\n",
       "    }\n",
       "\n",
       "    .dataframe thead th {\n",
       "        text-align: right;\n",
       "    }\n",
       "</style>\n",
       "<table border=\"1\" class=\"dataframe\">\n",
       "  <thead>\n",
       "    <tr style=\"text-align: right;\">\n",
       "      <th></th>\n",
       "      <th>job_title</th>\n",
       "      <th>upload_date</th>\n",
       "    </tr>\n",
       "  </thead>\n",
       "  <tbody>\n",
       "    <tr>\n",
       "      <th>13</th>\n",
       "      <td>Junior Data Scientist</td>\n",
       "      <td>2022-08-16</td>\n",
       "    </tr>\n",
       "    <tr>\n",
       "      <th>19</th>\n",
       "      <td>Data-Analitik</td>\n",
       "      <td>2022-08-15</td>\n",
       "    </tr>\n",
       "    <tr>\n",
       "      <th>38</th>\n",
       "      <td>Baş data analitiki</td>\n",
       "      <td>2022-08-10</td>\n",
       "    </tr>\n",
       "    <tr>\n",
       "      <th>111</th>\n",
       "      <td>Data Analitik</td>\n",
       "      <td>2022-07-20</td>\n",
       "    </tr>\n",
       "    <tr>\n",
       "      <th>119</th>\n",
       "      <td>Oracle Verilənlər Bazası inzibatçısı (Oracle D...</td>\n",
       "      <td>2022-07-19</td>\n",
       "    </tr>\n",
       "  </tbody>\n",
       "</table>\n",
       "</div>"
      ],
      "text/plain": [
       "                                             job_title upload_date\n",
       "13                               Junior Data Scientist  2022-08-16\n",
       "19                                       Data-Analitik  2022-08-15\n",
       "38                                  Baş data analitiki  2022-08-10\n",
       "111                                      Data Analitik  2022-07-20\n",
       "119  Oracle Verilənlər Bazası inzibatçısı (Oracle D...  2022-07-19"
      ]
     },
     "execution_count": 384,
     "metadata": {},
     "output_type": "execute_result"
    }
   ],
   "source": [
    "df[df['job_title'].str.contains('Data Analitiki|Data Scientist|Data|Machine Learning|Data Analyst|analitik|Data Engineer')]"
   ]
  },
  {
   "cell_type": "code",
   "execution_count": 386,
   "id": "e64fddd9",
   "metadata": {},
   "outputs": [
    {
     "data": {
      "text/plain": [
       "5"
      ]
     },
     "metadata": {},
     "output_type": "display_data"
    },
    {
     "data": {
      "text/plain": [
       "122"
      ]
     },
     "metadata": {},
     "output_type": "display_data"
    }
   ],
   "source": [
    "display(df[df['job_title'].str.contains('Data Analitiki|Data Scientist|Data|Machine Learning|Data Analyst|analitik|Data Engineer')] \\\n",
    "        .shape[0] \\\n",
    "        , df.shape[0]) #number of data vacancies per month"
   ]
  },
  {
   "cell_type": "code",
   "execution_count": 385,
   "id": "56cf452e",
   "metadata": {},
   "outputs": [
    {
     "data": {
      "text/plain": [
       "4.098360655737705"
      ]
     },
     "execution_count": 385,
     "metadata": {},
     "output_type": "execute_result"
    }
   ],
   "source": [
    "df[df['job_title'].str.contains('Data Analitiki|Data Scientist|Data|Machine Learning|Data Analyst|analitik|Data Engineer')] \\\n",
    ".shape[0]/ \\\n",
    "df.shape[0]*100 #pct"
   ]
  },
  {
   "cell_type": "code",
   "execution_count": 387,
   "id": "b68da02c",
   "metadata": {},
   "outputs": [
    {
     "data": {
      "text/plain": [
       "['Oracle Verilənlər Bazası inzibatçısı (Oracle Database Administrator)',\n",
       " 'İnformasiya təhlükəsizliyi üzrə Baş mütəxəssis',\n",
       " 'APP Tester',\n",
       " 'IT System Administrator',\n",
       " 'Texniki dəstək bölməsinin mütəxəssisi',\n",
       " 'Information Technologies Administrator (Admin)',\n",
       " 'Senior Business/IT Analyst',\n",
       " 'Offensive Security Services Specialist',\n",
       " 'IT Intern',\n",
       " 'İT layihələrə dəstək şöbəsinin mütəxəssisi (Application Support)',\n",
       " 'Data Analitik',\n",
       " 'ERP üzrə mütəxəssis',\n",
       " 'Fullstack Mi̇d Laravel Proqramçı',\n",
       " 'Service Support Specialist',\n",
       " '1C ERP administrator',\n",
       " '1C ERP Proqramçı',\n",
       " 'İnformasiya təhlükəsizliyi şöbəsinin mütəxəssisi (Kiber təhlükəsizlik mühəndisi)',\n",
       " 'Back-end üzrə proqramçı',\n",
       " 'Texniki dəstək üzrə mütəxəssis (kameralar üzrə)',\n",
       " 'İT üzrə mütəxəssis',\n",
       " '1С программист',\n",
       " 'QA Intern - Automation testing',\n",
       " 'Системный Администратор',\n",
       " 'Junior Front-end Developer (Grow lab 2 layihəsi)',\n",
       " 'Junior SAP HCM Consultant',\n",
       " 'Kart əməliyyatların monitorinqi bölməsinin mütəxəssisi',\n",
       " 'IT mütəxəssis',\n",
       " 'SQL Developer',\n",
       " 'ERP proqram təminatı üzrə Team Leader',\n",
       " 'IT Administrator',\n",
       " 'İş təminatlı Front-End üzrə Bootcamp',\n",
       " 'Middle developer',\n",
       " 'Android Proqramçı',\n",
       " 'Help Desk (texniki dəstək)',\n",
       " 'Middle Automation QA (APG)',\n",
       " 'Baş data analitiki',\n",
       " 'Junior .NET Developer',\n",
       " 'Back End (Node.js) developer',\n",
       " 'GPS sistemlərə texniki dəstək üzrə qrup rəhbəri',\n",
       " 'Backend Developer istiqaməti üzrə Mütəxəssis/Məsləhətçi',\n",
       " 'Специалист в отдел продаж IT услуг',\n",
       " 'Инженер-программист',\n",
       " 'Sayt üzrə mütəxəssis',\n",
       " 'PHP Developer',\n",
       " 'Tətbiqi proqramlaşdırma şöbəsinin mütəxəssisi (Backend developer)',\n",
       " 'Java Backend Proqramçı',\n",
       " 'Web proqramçı',\n",
       " 'İT İdarəetmə (IT Governance) üzrə mütəxəssis',\n",
       " 'Java Developer',\n",
       " 'Стажер Программист 1С',\n",
       " 'Middle JavaScript Developer',\n",
       " 'İT layihələrə dəstək şöbəsinin mütəxəssisi (Software Tester)',\n",
       " 'BSS Operations Engineer',\n",
       " 'Məlumat bazaları üzrə mütəxəssis',\n",
       " 'Middle UX Designer',\n",
       " 'PL/SQL proqramçı',\n",
       " 'ERP 1C Developer',\n",
       " 'Tətbiqi proqramlaşdırma şöbəsinin mütəxəssisi (frontend developer)',\n",
       " 'Kiber təhlükəsizlik üzrə mütəxəssis',\n",
       " 'Analizçi, Mütəxəssis',\n",
       " 'Junior Back-end Developer (Grow lab 2 layihəsi)',\n",
       " 'Baş Şəbəkə Administratoru',\n",
       " 'Angular Proqramçı',\n",
       " 'İT mütəxəssisi',\n",
       " 'İnformasiya təhlükəsizliyi şöbəsinin mütəxəssisi (Kiber Təhlükəsizlik Əməliyyatları Mərkəzi mütəxəssisi (SOC analyst))',\n",
       " 'SAP Retail MM Junior Consultant',\n",
       " '1C Texniki Dəstək üzrə Mütəxəssis',\n",
       " 'İnformasiya təhlükəsizliyi strategiyası və risklərin idarə edilməsi şöbəsinin rəisi',\n",
       " '1C Dəstək xidməti üzrə mütəxəssis',\n",
       " 'Şəbəkə inzibatçısı (böyük mütəxəssis)',\n",
       " 'Sistem administratoru',\n",
       " 'Data-Analitik',\n",
       " 'İnformasiya texnologiyaları şöbəsinin müdir müavini',\n",
       " 'User Experience Researcher',\n",
       " 'Sistemlərin və şəbəkənin idarə edilməsi şöbəsinin mütəxəssisi – Sistem inzibatçısı (Microsoft)',\n",
       " 'Kibertəhlükəsizlik üzrə mütəxəssis',\n",
       " 'Back end Developer',\n",
       " 'İT Proqramçı',\n",
       " 'GPS sistemlərinə texniki dəstək üzrə mütəxəssis',\n",
       " 'İT Sistem inzibatçısı',\n",
       " 'İş təminatlı Back-End üzrə bootcamp',\n",
       " 'Middle/Senior QA engineer',\n",
       " '1C proqram üzrə təcrübəçi',\n",
       " 'İT menecer',\n",
       " 'Sistemlərin və şəbəkənin idarə edilməsi şöbəsi – Sistem inzibatçısı (Linux)',\n",
       " 'Middle System Reliability Engineer',\n",
       " 'Ödəniş sistemlərinin İdarə Olunması şöbəsinin mütəxəssisi',\n",
       " 'Security Engineer',\n",
       " 'IT Helpdesk',\n",
       " 'İnformasiya təhlükəsizliyi üzrə aparıcı mütəxəssis',\n",
       " 'İT\\xa0Texnik',\n",
       " 'QA Intern - Functional testing',\n",
       " 'Devops üzrə sistem inzibatçısı',\n",
       " 'IT Risklərin İdarəolunması üzrə mütəxəssis/aparıcı mütəxəssis',\n",
       " 'IT Assistant',\n",
       " 'Elektron Təhlükəsizlik Sistemləri üzrə Mütəxəssis',\n",
       " 'Proqram təminatının keyyfiyyətinin təmin olunması üzrə mühəndis (QA Tester)',\n",
       " 'Backend Developer',\n",
       " 'Junior Data Scientist',\n",
       " 'Penetration Testing (Purple Team)',\n",
       " 'Cyber Operations Team',\n",
       " 'Sistem Administrasiyası və Şəbəkə üzrə mütəxəssis',\n",
       " '1C İnzibatçısı',\n",
       " 'IT Specialist',\n",
       " 'System administrator',\n",
       " 'Əməliyyat şöbəsinin mütəxəssisi',\n",
       " 'Avtomatlaşdırılmış bank sistemləri şöbəsində mütəxəssis/aparıcı/baş mütəxəssis',\n",
       " 'Proqram Təminatı üzrə Mütəxəssis',\n",
       " 'Information Security Specialist',\n",
       " 'İT Menecer',\n",
       " 'Senior Penetration Tester',\n",
       " 'İnformasiya texnologiyaları üzrə mütəxəssis',\n",
       " 'Back End Specialist',\n",
       " 'Game Development üzrə Bootcamp',\n",
       " 'Senior NodeJS developer',\n",
       " 'Full Stack Developer']"
      ]
     },
     "execution_count": 387,
     "metadata": {},
     "output_type": "execute_result"
    }
   ],
   "source": [
    "list(set(df['job_title'].values))"
   ]
  }
 ],
 "metadata": {
  "kernelspec": {
   "display_name": "Python 3 (ipykernel)",
   "language": "python",
   "name": "python3"
  },
  "language_info": {
   "codemirror_mode": {
    "name": "ipython",
    "version": 3
   },
   "file_extension": ".py",
   "mimetype": "text/x-python",
   "name": "python",
   "nbconvert_exporter": "python",
   "pygments_lexer": "ipython3",
   "version": "3.8.8"
  }
 },
 "nbformat": 4,
 "nbformat_minor": 5
}
